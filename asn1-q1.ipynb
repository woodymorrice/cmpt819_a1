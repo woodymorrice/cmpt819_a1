{
 "cells": [
  {
   "cell_type": "markdown",
   "id": "d83bea8b-fece-4382-9d99-16e27a979fd3",
   "metadata": {},
   "source": [
    "# Question 1\n",
    "\n",
    "In this question we will\n",
    "- Practice reading image filenames from a .csv file for processing.\n",
    "- Compare the PSNR and SSIM of different denoising methods applied to a dataset at different noise levels.\n",
    "\n",
    "\n"
   ]
  },
  {
   "cell_type": "code",
   "execution_count": 2,
   "id": "db84ec26-0700-4e44-b02f-212980e868da",
   "metadata": {},
   "outputs": [],
   "source": [
    "# Boilerplate imports\n",
    "import skimage.io as skio\n",
    "import skimage.color as skcolor\n",
    "import skimage.util as skutil\n",
    "import skimage.restoration as skrest\n",
    "import skimage.filters as skfilt\n",
    "import skimage.metrics as skmetrics\n",
    "import os\n",
    "import numpy as np\n",
    "import matplotlib.pyplot as plt\n",
    "import pandas as pd"
   ]
  },
  {
   "cell_type": "markdown",
   "id": "9acf0e07-94ea-4b0e-8b84-03a5dc8fceb2",
   "metadata": {},
   "source": [
    "# Step 1: Read the image filenames from the .csv file.  \n",
    "\n",
    "For this you should add `import pandas as pd` to the list of boilerplate imports, above.  Then use the pd.read_csv() function and give the path to the images.csv file as an argument, and also give the optional argument `headers=None` because the given .csv file does not have column title headers.  This will return a Pandas dataframe with one column containing the filenames.  We could iterate over the dataframe, but in order to not have to get too deep into the use of Pandas dataframes, we can convert the single column dataframe to a Python list easily.  If the dataframe is referred to by a variable called `files`, we can convert the first column to a list using:  `files[0].tolist()`.  This will return a list of strings, one for each filename that we can now easily iterate over using a for-loop.\n"
   ]
  },
  {
   "cell_type": "code",
   "execution_count": 14,
   "id": "4f1c6d87-ab4b-47fe-98b5-a5e0fab0e895",
   "metadata": {},
   "outputs": [
    {
     "name": "stdout",
     "output_type": "stream",
     "text": [
      "['100075.png', '100080.png', '100098.png', '103041.png', '104022.png', '105019.png', '105053.png', '106020.png', '106025.png', '108041.png', '108073.png', '109034.png', '112082.png', '113009.png', '113016.png', '113044.png', '117054.png', '118020.png', '118035.png', '12003.png', '12074.png', '122048.png', '124084.png', '126039.png', '130034.png', '134008.png', '134052.png', '135037.png', '135069.png', '138032.png', '138078.png', '140055.png', '140075.png', '144067.png', '145014.png', '145053.png', '147021.png', '147062.png', '15004.png', '15088.png', '151087.png', '153077.png', '153093.png', '155060.png', '156079.png', '157036.png', '159029.png', '159045.png', '159091.png', '16052.png', '161062.png', '163014.png', '163062.png', '164074.png', '166081.png', '169012.png', '170054.png', '172032.png', '173036.png', '176019.png', '176035.png', '176039.png', '178054.png', '181018.png', '181079.png', '181091.png', '183055.png', '183087.png', '187003.png', '187029.png', '187039.png', '187071.png', '187083.png', '188005.png', '188063.png', '188091.png', '189003.png', '189011.png', '196015.png', '198004.png', '198023.png', '198054.png', '20008.png', '202012.png', '207056.png', '209070.png', '2092.png', '216041.png', '216053.png', '216066.png', '22013.png', '22090.png', '22093.png', '225017.png', '227040.png', '227046.png', '23025.png', '23080.png', '23084.png', '231015.png', '232038.png', '236017.png', '238011.png', '239007.png', '239096.png', '24004.png', '24063.png', '242078.png', '245051.png', '246016.png', '246053.png', '247085.png', '249061.png', '249087.png', '25098.png', '253036.png', '254033.png', '254054.png', '260081.png', '26031.png', '268002.png', '27059.png', '271008.png', '271031.png', '274007.png', '277095.png', '28075.png', '28096.png', '285036.png', '286092.png', '292066.png', '293029.png', '299091.png', '301007.png', '302003.png', '309004.png', '310007.png', '311068.png', '311081.png', '314016.png', '317080.png', '323016.png', '326038.png', '33066.png', '35008.png', '35010.png', '35058.png', '35070.png', '35091.png', '353013.png', '361084.png', '365025.png', '365073.png', '368016.png', '368078.png', '370036.png', '372047.png', '374020.png', '374067.png', '376001.png', '376020.png', '385028.png', '388016.png', '41004.png', '41025.png', '42044.png', '42078.png', '43070.png', '43083.png', '45077.png', '46076.png', '48055.png', '54005.png', '55067.png', '55075.png', '56028.png', '59078.png', '60079.png', '61060.png', '61086.png', '65010.png', '65019.png', '65074.png', '65132.png', '66039.png', '66075.png', '67079.png', '68077.png', '71046.png', '76002.png', '78019.png', '80099.png', '8049.png', '8143.png', '87065.png', '90076.png', '92059.png', '94079.png', '95006.png', '97017.png']\n"
     ]
    }
   ],
   "source": [
    "# Write the code for this step here\n",
    "files = pd.read_csv(\"images.csv\", header=None)\n",
    "\n",
    "file_list = files[0].tolist()\n",
    "\n",
    "print(file_list)"
   ]
  },
  {
   "cell_type": "markdown",
   "id": "5522e2b8-529c-4f8e-9a41-fdd3de0e57c6",
   "metadata": {},
   "source": [
    "# Step 2: Process the images\n",
    "\n",
    "## Instructions\n",
    "\n",
    "- For each filename in `file_list` defined in the prevous block (for testing purposes you can use a small number of the images, say the first 3-5 filenames):\n",
    "    - read in the noiseless version of that image from the images/noiseless directory.  Convert it to grayscale (since these are RGB colour images) and convert it to a dtype float64 numpy array using `skutil.img_as_float()`.\n",
    "    - use the `skutil.random_noise()` function to corrupt the noiseless image with Gaussian noise with standard deviation sigma for each of the sigma values given in the array `sigmas`, defined below.  Keep in mind that the values in `sigmas` are standard deviations, and the `random_noise()` function expects *variance*, so you will need to square the sigma values when you pass them to `random_noise()`.\n",
    "    - Denoise each of the 5 noisy versions of the image with Gaussian filtering (`skfilt.gaussian()`), total variation minimization (TVM) (`skrest.denoise_tv_bregman()`), and non-local means filtering (NLM) (`skrest.denoise_nl_means()`).  For Gaussian filtering, use a 7x7 filter.  For TVM and NLM just pass in the image and use the *default* parameters.\n",
    "    - For each denoised image, compute and store the PSNR and SSIM resulting from denoising with each method by comparing each denoised image to the noiseless image.  Do this in such a way that is easy to compute the averages described below.\n",
    "      \n",
    "- Compute the average PSNR and SSIM for each denoising method and noise level.   We recommend that the results of this computation be stored in the form of six different arrays or lists, one for each combination of denoising method and metric.\n",
    "- See functions `skmetrics.peak_signal_noise_ratio()` and `skmetrics.structural_similarity()` to compute PSNR and SSIM.\n",
    "\n",
    "For testing use only the first three to five filenames in `file_list` so that you can perform testing quickly.  Once you have completed and thoroughly tested your code, run it on the entire list of filenames.  This will take several minutes.  \n"
   ]
  },
  {
   "cell_type": "code",
   "execution_count": 39,
   "id": "079bf95c-d7ed-48b8-ac6a-0f2a4a1bda83",
   "metadata": {},
   "outputs": [
    {
     "name": "stdout",
     "output_type": "stream",
     "text": [
      "{'psnr_gaussian': [np.float64(27.58081619599836), np.float64(27.510563457999822), np.float64(27.08131662988184), np.float64(25.946311643238538), np.float64(23.33809671219676)], 'psnr_tvm': [np.float64(27.807818309101652), np.float64(27.783544083013304), np.float64(27.624490969026667), np.float64(26.75868339507555), np.float64(23.26800058408485)], 'psnr_nlm': [np.float64(26.242045403942868), np.float64(26.252550882177452), np.float64(26.306796846637038), np.float64(26.39417830150543), np.float64(18.885306145095754)], 'ssim_gaussian': [np.float64(0.8205834928541305), np.float64(0.8150460982875535), np.float64(0.7807842955518436), np.float64(0.6927308528535163), np.float64(0.523414385473012)], 'ssim_tvm': [np.float64(0.7812644939690176), np.float64(0.7812960995926734), np.float64(0.779669990090513), np.float64(0.7376320286739638), np.float64(0.5175276639865551)], 'ssim_nlm': [np.float64(0.6866839914730507), np.float64(0.6875966936900109), np.float64(0.692685981954883), np.float64(0.7038420353497927), np.float64(0.3649870321227209)]}\n"
     ]
    }
   ],
   "source": [
    "# Define the set of different noise levels.  Remember these are STANDARD DEVIATIONS, not VARIANCE. The squares of these values are variance.\n",
    "sigmas = [0.01, 0.02, 0.05, 0.1, 0.2]\n",
    "\n",
    "# Write the code for the rest of this step here.\n",
    "# test_set = file_list[:2]\n",
    "# print(test_set)\n",
    "\n",
    "results = {}\n",
    "results[\"psnr_gaussian\"] = [[],[],[],[],[]]\n",
    "results[\"psnr_tvm\"] = [[],[],[],[],[]]\n",
    "results[\"psnr_nlm\"] = [[],[],[],[],[]]\n",
    "results[\"ssim_gaussian\"] = [[],[],[],[],[]]\n",
    "results[\"ssim_tvm\"] = [[],[],[],[],[]]\n",
    "results[\"ssim_nlm\"] = [[],[],[],[],[]]\n",
    "noiseless_dir = \"/images/noiseless/\"\n",
    "# for filename in test_set:\n",
    "for filename in file_list:\n",
    "    # read image\n",
    "    image = skio.imread(os.getcwd() + noiseless_dir + filename)\n",
    "\n",
    "    # convert to grayscale\n",
    "    image_gray = skcolor.rgb2gray(image)\n",
    "\n",
    "    # convert to dtype float64\n",
    "    image_f64 = skutil.img_as_float(image_gray)\n",
    "\n",
    "    # create 5 noisy images\n",
    "    corrupted_images = []\n",
    "    for sigma in sigmas:\n",
    "        corrupted_image = skutil.random_noise(image_f64, mode=\"gaussian\", mean=0, var=sigma**2)\n",
    "        corrupted_images.append(corrupted_image)\n",
    "\n",
    "    for i in range(len(corrupted_images)):\n",
    "    # for corrupted_image in corrupted_images:\n",
    "        denoised_gaussian = skfilt.gaussian(corrupted_images[i], sigma=7/6)\n",
    "        denoised_tvm = skrest.denoise_tv_bregman(corrupted_images[i])\n",
    "        denoised_nlm = skrest.denoise_nl_means(corrupted_images[i])\n",
    "\n",
    "        # psnr_gaussian\n",
    "        results[\"psnr_gaussian\"][i].append(skmetrics.peak_signal_noise_ratio(image_f64, denoised_gaussian))\n",
    "        # psnr_tvm\n",
    "        results[\"psnr_tvm\"][i].append(skmetrics.peak_signal_noise_ratio(image_f64, denoised_tvm))\n",
    "        # psnr_nlm\n",
    "        results[\"psnr_nlm\"][i].append(skmetrics.peak_signal_noise_ratio(image_f64, denoised_nlm))\n",
    "\n",
    "        # ssim_gaussian\n",
    "        results[\"ssim_gaussian\"][i].append(skmetrics.structural_similarity(image_f64, denoised_gaussian, data_range=1.0))\n",
    "        # ssim_tvm\n",
    "        results[\"ssim_tvm\"][i].append(skmetrics.structural_similarity(image_f64, denoised_tvm, data_range=1.0))\n",
    "        # ssim_nlm\n",
    "        results[\"ssim_nlm\"][i].append(skmetrics.structural_similarity(image_f64, denoised_nlm, data_range=1.0))\n",
    "\n",
    "for _, result in results.items():\n",
    "    for i in range(len(result)):\n",
    "        result[i] = np.mean(result[i])\n",
    "        \n",
    "print(results)\n",
    "\n"
   ]
  },
  {
   "cell_type": "markdown",
   "id": "df8189ad-e8b3-4211-be57-e93e84601b5a",
   "metadata": {},
   "source": [
    "# Step 3: Plot the PSNR and SSIM for each noise level and denoising method.\n",
    "\n",
    "## Instructions\n",
    "\n",
    "- Generate a 2 x 6 group of subplots, each of which contains a bar graph.  The first row of three graphs should show the mean PSNR for each of the five noise levels for Gaussian filtering, TVM filtering and NLM filtering.  Sample output is given in the assignment PDF.  Your plots, subplot titles, axis labels, and tick labels should match the sample output.\n",
    "- Make sure that the range of the y-axis is the same for all PSNR plots and the same for all SSIM plots.\n"
   ]
  },
  {
   "cell_type": "code",
   "execution_count": 59,
   "id": "b4186f16-85b8-46d9-80f0-52c0eca08b83",
   "metadata": {},
   "outputs": [
    {
     "data": {
      "image/png": "[encoded data removed]",
      "text/plain": [
       "<Figure size 1200x600 with 6 Axes>"
      ]
     },
     "metadata": {},
     "output_type": "display_data"
    }
   ],
   "source": [
    "# Write the code for this step here\n",
    "plt.subplots(2, 3, figsize=(12, 6))\n",
    "\n",
    "x = range(len(sigmas))\n",
    "\n",
    "# PSNR\n",
    "plt.subplot(2, 3, 1)\n",
    "plt.bar(x, results[\"psnr_gaussian\"])\n",
    "plt.xticks(x, sigmas)\n",
    "plt.ylim(0, 45)\n",
    "plt.title(\"Gaussian-filtered PSNR\")\n",
    "plt.xlabel(\"Gaussian Noise Level\")\n",
    "\n",
    "plt.subplot(2, 3, 2)\n",
    "plt.bar(x, results[\"psnr_tvm\"])\n",
    "plt.xticks(x, sigmas)\n",
    "plt.ylim(0, 45)\n",
    "plt.title(\"TVM-filtered PSNR\")\n",
    "plt.xlabel(\"Gaussian Noise Level\")\n",
    "\n",
    "plt.subplot(2, 3, 3)\n",
    "plt.bar(x, results[\"psnr_nlm\"])\n",
    "plt.xticks(x, sigmas)\n",
    "plt.ylim(0, 45)\n",
    "plt.title(\"NLM-filtered PSNR\")\n",
    "plt.xlabel(\"Gaussian Noise Level\")\n",
    "\n",
    "# SSIM\n",
    "plt.subplot(2, 3, 4)\n",
    "plt.bar(x, results[\"ssim_gaussian\"])\n",
    "plt.xticks(x, sigmas)\n",
    "plt.ylim(0.0, 1.1)\n",
    "plt.title(\"Gaussian-filtered SSIM\")\n",
    "plt.xlabel(\"Gaussian Noise Level\")\n",
    "\n",
    "plt.subplot(2, 3, 5)\n",
    "plt.bar(x, results[\"ssim_tvm\"])\n",
    "plt.xticks(x, sigmas)\n",
    "plt.ylim(0.0, 1.1)\n",
    "plt.title(\"TVM-filtered SSIM\")\n",
    "plt.xlabel(\"Gaussian Noise Level\")\n",
    "\n",
    "plt.subplot(2, 3, 6)\n",
    "plt.bar(x, results[\"ssim_nlm\"])\n",
    "plt.xticks(x, sigmas)\n",
    "plt.ylim(0.0, 1.1)\n",
    "plt.title(\"NLM-filtered SSIM\")\n",
    "plt.xlabel(\"Gaussian Noise Level\")\n",
    "\n",
    "plt.tight_layout()\n"
   ]
  },
  {
   "cell_type": "markdown",
   "id": "e24c1da1-6e87-4ffc-b587-ed3c1b0a0370",
   "metadata": {},
   "source": [
    "# Step 4: Reflection\n",
    "\n",
    "We'd expect the total variation minimization (TVM) to be slightly better than Gaussian filtering at most noise levels, but we do not see this.  We'd also expect the non-local means (NLM) filtering to outperform Gaussian filtering at all noise levels, and again we do not see this.  This is because we did all filtering using default parameters for the TVM and NLM filtering algorithms.  Why do the default parameters not produce expected results?"
   ]
  },
  {
   "cell_type": "markdown",
   "id": "654cbd03-7e9c-413b-aa27-7970c52d7d24",
   "metadata": {},
   "source": [
    "### Type your answer here in this block:\n",
    "\n"
   ]
  },
  {
   "cell_type": "markdown",
   "id": "78d21cce-2a2a-400b-a3df-9306e63f4446",
   "metadata": {},
   "source": [
    "# Step 5: Improving the Results\n",
    "\n",
    "## Instructions:\n",
    "\n",
    "- Investigate the documentation for the denoise_tv_bregman() and denoise_nl_means() functions.   \n",
    "- Determine more optimal parameters for these algorithms that will improve results across all noise levels.  You may make the values of parameters dependent on the known noise level of a given image (i.e. a parameter may be a function of the noise level).\n",
    "- Hint: you can likely copy your code from Steps 2 and 3 and then add parameters to the denoising algoirthms.  \n",
    "- The output of this step should have the same form as Step 3, but the bar heights will be different.\n",
    "\n",
    "By adjusting the algorithm parameters judiciously, it should be possible to get TVM to at least very slightly outperform Gaussian filtering at all noise levels, and it should be possible to get NLM to greatly outperform both Gaussian filtering and TVM at low noise levels, and perform at least as well at high noise levels.\n",
    "\n",
    "This step will be assessed based on how closely you match or exceed the expected results described above (see rubric on Canvas)."
   ]
  },
  {
   "cell_type": "code",
   "execution_count": null,
   "id": "dd5f14a9-355b-47bd-82f6-03abed6ed6f2",
   "metadata": {},
   "outputs": [],
   "source": [
    "# Write the code for this step here\n"
   ]
  }
 ],
 "metadata": {
  "kernelspec": {
   "display_name": "Python 3",
   "language": "python",
   "name": "python3"
  },
  "language_info": {
   "codemirror_mode": {
    "name": "ipython",
    "version": 3
   },
   "file_extension": ".py",
   "mimetype": "text/x-python",
   "name": "python",
   "nbconvert_exporter": "python",
   "pygments_lexer": "ipython3",
   "version": "3.13.7"
  }
 },
 "nbformat": 4,
 "nbformat_minor": 5
}
